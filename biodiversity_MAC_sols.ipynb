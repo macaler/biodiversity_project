{
 "cells": [
  {
   "cell_type": "markdown",
   "metadata": {},
   "source": [
    "# Capstone 2: Biodiversity Project"
   ]
  },
  {
   "cell_type": "markdown",
   "metadata": {},
   "source": [
    "# Introduction\n",
    "You are a biodiversity analyst working for the National Parks Service.  You're going to help them analyze some data about species at various national parks.\n",
    "\n",
    "Note: The data that you'll be working with for this project is *inspired* by real data, but is mostly fictional."
   ]
  },
  {
   "cell_type": "markdown",
   "metadata": {},
   "source": [
    "# Step 1\n",
    "Import the modules that you'll be using in this assignment:\n",
    "- `from matplotlib import pyplot as plt`\n",
    "- `import pandas as pd`"
   ]
  },
  {
   "cell_type": "code",
   "execution_count": 1,
   "metadata": {},
   "outputs": [],
   "source": [
    "from matplotlib import pyplot as plt\n",
    "import pandas as pd"
   ]
  },
  {
   "cell_type": "markdown",
   "metadata": {},
   "source": [
    "# Step 2\n",
    "You have been given two CSV files. `species_info.csv` with data about different species in our National Parks, including:\n",
    "- The scientific name of each species\n",
    "- The common names of each species\n",
    "- The species conservation status\n",
    "\n",
    "Load the dataset and inspect it:\n",
    "- Load `species_info.csv` into a DataFrame called `species`"
   ]
  },
  {
   "cell_type": "code",
   "execution_count": 2,
   "metadata": {},
   "outputs": [],
   "source": [
    "species = pd.read_csv('species_info.csv')"
   ]
  },
  {
   "cell_type": "markdown",
   "metadata": {},
   "source": [
    "Inspect each DataFrame using `.head()`."
   ]
  },
  {
   "cell_type": "code",
   "execution_count": 3,
   "metadata": {},
   "outputs": [
    {
     "name": "stdout",
     "output_type": "stream",
     "text": [
      "<class 'pandas.core.frame.DataFrame'>\n",
      "RangeIndex: 5824 entries, 0 to 5823\n",
      "Data columns (total 4 columns):\n",
      " #   Column               Non-Null Count  Dtype \n",
      "---  ------               --------------  ----- \n",
      " 0   category             5824 non-null   object\n",
      " 1   scientific_name      5824 non-null   object\n",
      " 2   common_names         5824 non-null   object\n",
      " 3   conservation_status  191 non-null    object\n",
      "dtypes: object(4)\n",
      "memory usage: 182.1+ KB\n",
      "None\n"
     ]
    }
   ],
   "source": [
    "#print(species.head(10))\n",
    "\n",
    "print(species.info())"
   ]
  },
  {
   "cell_type": "markdown",
   "metadata": {},
   "source": [
    "# Step 3\n",
    "Let's start by learning a bit more about our data.  Answer each of the following questions."
   ]
  },
  {
   "cell_type": "markdown",
   "metadata": {},
   "source": [
    "How many different species are in the `species` DataFrame?"
   ]
  },
  {
   "cell_type": "code",
   "execution_count": 4,
   "metadata": {},
   "outputs": [
    {
     "name": "stdout",
     "output_type": "stream",
     "text": [
      "5541\n"
     ]
    }
   ],
   "source": [
    "# Let's do this for scientific name, as the column \"common_names\" is going to need some unpacking.\n",
    "print(species.scientific_name.nunique())\n",
    "\n",
    "#From the output line below, there seem to be 5,541 unique scientific names in the DataFrame."
   ]
  },
  {
   "cell_type": "markdown",
   "metadata": {},
   "source": [
    "What are the different values of `category` in `species`?"
   ]
  },
  {
   "cell_type": "code",
   "execution_count": 5,
   "metadata": {},
   "outputs": [
    {
     "name": "stdout",
     "output_type": "stream",
     "text": [
      "['Mammal' 'Bird' 'Reptile' 'Amphibian' 'Fish' 'Vascular Plant'\n",
      " 'Nonvascular Plant']\n"
     ]
    }
   ],
   "source": [
    "print(species.category.unique())\n",
    "\n",
    "#From the output line below, the different categories in species seem to be:\n",
    "#Mammal, Bird, Reptile, Amphibian, Fish, Vascular Plant, Nonvascular Plant"
   ]
  },
  {
   "cell_type": "markdown",
   "metadata": {},
   "source": [
    "What are the different values of `conservation_status`?"
   ]
  },
  {
   "cell_type": "code",
   "execution_count": 6,
   "metadata": {},
   "outputs": [
    {
     "name": "stdout",
     "output_type": "stream",
     "text": [
      "[nan 'Species of Concern' 'Endangered' 'Threatened' 'In Recovery']\n"
     ]
    }
   ],
   "source": [
    "print(species.conservation_status.unique())\n",
    "\n",
    "#From the output line below, the different values of conservation_status seem to be:\n",
    "#Species of Concern, Endangered, Threatened, and In Recovery\n",
    "#There are of course species with no conservation_status provided, so these values\n",
    "#are blank in the DataFrame. This seems to be showing up as nan rather than None."
   ]
  },
  {
   "cell_type": "markdown",
   "metadata": {},
   "source": [
    "# Step 4\n",
    "Let's start doing some analysis!\n",
    "\n",
    "The column `conservation_status` has several possible values:\n",
    "- `Species of Concern`: declining or appear to be in need of conservation\n",
    "- `Threatened`: vulnerable to endangerment in the near future\n",
    "- `Endangered`: seriously at risk of extinction\n",
    "- `In Recovery`: formerly `Endangered`, but currnetly neither in danger of extinction throughout all or a significant portion of its range\n",
    "\n",
    "We'd like to count up how many species meet each of these criteria.  Use `groupby` to count how many `scientific_name` meet each of these criteria."
   ]
  },
  {
   "cell_type": "code",
   "execution_count": 7,
   "metadata": {},
   "outputs": [
    {
     "name": "stdout",
     "output_type": "stream",
     "text": [
      "  conservation_status  scientific_name\n",
      "0          Endangered               15\n",
      "1         In Recovery                4\n",
      "2  Species of Concern              151\n",
      "3          Threatened               10\n"
     ]
    }
   ],
   "source": [
    "num_of_conserve_species = species.groupby('conservation_status').scientific_name.nunique().reset_index()\n",
    "\n",
    "print(num_of_conserve_species)\n",
    "\n",
    "# Using .count() to create num_of_conserve_species yields 16 endangered, 4 in recovery, 161 species of concern, \n",
    "# and 10 threatened; 191 in total, matches the number of non-null entries in the species DataFrame. \n",
    "# Using .nunique() to create num_of_conserve_species yields 15 endangered, 4 in recovery, 151 species of concern, \n",
    "# and 10 threatened; 180 in total, so apparently 11 species are duplicated; 1 in endangered (from below, that looks\n",
    "# to be the grey wolf) and 10 in species of concern."
   ]
  },
  {
   "cell_type": "markdown",
   "metadata": {},
   "source": [
    "As we saw before, there are far more than 200 species in the `species` table.  Clearly, only a small number of them are categorized as needing some sort of protection.  The rest have `conservation_status` equal to `None`.  Because `groupby` does not include `None`, we will need to fill in the null values.  We can do this using `.fillna`.  We pass in however we want to fill in our `None` values as an argument.\n",
    "\n",
    "MAC note from Pandas documentation: .fillna() fills na/NaN values using a specified method. Apparently here we are not specifying a method, so we'll literally just replace the nans with the specified string.\n",
    "\n",
    "Paste the following code and run it to see replace `None` with `No Intervention`:\n",
    "```python\n",
    "species.fillna('No Intervention', inplace=True)\n",
    "```"
   ]
  },
  {
   "cell_type": "code",
   "execution_count": 8,
   "metadata": {},
   "outputs": [],
   "source": [
    "species.fillna('No Intervention', inplace = True)"
   ]
  },
  {
   "cell_type": "markdown",
   "metadata": {},
   "source": [
    "Great! Now run the same `groupby` as before to see how many species require `No Intervention`."
   ]
  },
  {
   "cell_type": "code",
   "execution_count": 11,
   "metadata": {},
   "outputs": [
    {
     "name": "stdout",
     "output_type": "stream",
     "text": [
      "  conservation_status  scientific_name\n",
      "0          Endangered               14\n",
      "1         In Recovery                4\n",
      "2     No Intervention             5363\n",
      "3  Species of Concern              151\n",
      "4          Threatened                9\n"
     ]
    }
   ],
   "source": [
    "num_of_conserve_species = species.groupby('conservation_status').scientific_name.nunique().reset_index()\n",
    "\n",
    "print(num_of_conserve_species)\n",
    "\n",
    "# The output of num_of_conserve_species SHOULD be 5541, but it is actually 5543. \n",
    "# Where did those two extra species come from?\n",
    "# Let's see if any of the species which are listed under a particular conservation status are also listed as having\n",
    "# some other conservation status:\n",
    "# Canis lupus (the Gray Wolf) is listed twice once under Endangered and once under In Recovery.\n",
    "# According to a Google search on 07/23/2020, it should be listed as In Recovery (Least Concern, population stable)\n",
    "# Oncorhynchus mykiss (the Rainbow Trout) is listed twice, under both No Intervention and Threatened\n",
    "# I ran a Google search on 07/23/2020 for Rainbow Trout, and according to the US Fish and Wildlife service it's not\n",
    "# on the Endangered Species Act. So I will take this to mean \"No Intervention\"\n",
    "# Let's fix these two issues and see what happens to the overall numbers:\n",
    "\n",
    "#gray_wolf = species[species.scientific_name == \"Canis lupus\"]\n",
    "#print(gray_wolf)\n",
    "\n",
    "#species.drop([8,4448], inplace = True)\n",
    "\n",
    "#rainbow_trout = species[species.scientific_name == 'Oncorhynchus mykiss']\n",
    "#print(rainbow_trout)\n",
    "\n",
    "#species.drop([3283], inplace = True)\n",
    "\n",
    "# Sure enough, that fixes the problem!"
   ]
  },
  {
   "cell_type": "markdown",
   "metadata": {},
   "source": [
    "Let's use `plt.bar` to create a bar chart.  First, let's sort the columns by how many species are in each categories.  We can do this using `.sort_values`.  We use the the keyword `by` to indicate which column we want to sort by.\n",
    "\n",
    "Paste the following code and run it to create a new DataFrame called `protection_counts`, which is sorted by `scientific_name`:\n",
    "```python\n",
    "protection_counts = species.groupby('conservation_status')\\\n",
    "    .scientific_name.nunique().reset_index()\\\n",
    "    .sort_values(by='scientific_name')\n",
    "```"
   ]
  },
  {
   "cell_type": "code",
   "execution_count": 12,
   "metadata": {},
   "outputs": [
    {
     "name": "stdout",
     "output_type": "stream",
     "text": [
      "  conservation_status  scientific_name\n",
      "1         In Recovery                4\n",
      "4          Threatened                9\n",
      "0          Endangered               14\n",
      "3  Species of Concern              151\n",
      "2     No Intervention             5363\n"
     ]
    }
   ],
   "source": [
    "protection_counts = species.groupby('conservation_status').scientific_name.nunique().reset_index()\\\n",
    "                    .sort_values(by = 'scientific_name')\n",
    "\n",
    "print(protection_counts)"
   ]
  },
  {
   "cell_type": "markdown",
   "metadata": {},
   "source": [
    "Now let's create a bar chart!\n",
    "1. Start by creating a wide figure with `figsize=(10, 4)`\n",
    "1. Start by creating an axes object called `ax` using `plt.subplot`.\n",
    "2. Create a bar chart whose heights are equal to `scientific_name` column of `protection_counts`.\n",
    "3. Create an x-tick for each of the bars.\n",
    "4. Label each x-tick with the label from `conservation_status` in `protection_counts`\n",
    "5. Label the y-axis `Number of Species`\n",
    "6. Title the graph `Conservation Status by Species`\n",
    "7. Plot the grap using `plt.show()`"
   ]
  },
  {
   "cell_type": "code",
   "execution_count": 13,
   "metadata": {},
   "outputs": [
    {
     "data": {
      "image/png": "[encoded data removed]",
      "text/plain": [
       "<Figure size 720x288 with 1 Axes>"
      ]
     },
     "metadata": {
      "needs_background": "light"
     },
     "output_type": "display_data"
    }
   ],
   "source": [
    "plt.figure(figsize=(10,4))\n",
    "ax = plt.subplot()\n",
    "numofstats = range(len(protection_counts))\n",
    "plt.bar(numofstats, protection_counts.scientific_name, color = 'green')\n",
    "ax.set_xticks(numofstats)\n",
    "ax.set_xticklabels(protection_counts.conservation_status)\n",
    "plt.ylabel('Number of Species')\n",
    "plt.xlabel('Status')\n",
    "plt.title ('Conservation Status by Species')\n",
    "plt.savefig('Conservation_Status_bar_graph.png')\n",
    "plt.show()"
   ]
  },
  {
   "cell_type": "markdown",
   "metadata": {},
   "source": [
    "# Step 4\n",
    "Are certain types of species more likely to be endangered?"
   ]
  },
  {
   "cell_type": "markdown",
   "metadata": {},
   "source": [
    "Let's create a new column in `species` called `is_protected`, which is `True` if `conservation_status` is not equal to `No Intervention`, and `False` otherwise."
   ]
  },
  {
   "cell_type": "code",
   "execution_count": 14,
   "metadata": {},
   "outputs": [],
   "source": [
    "# Let's practice using the isin() function:\n",
    "\n",
    "species['is_protected'] = species.conservation_status.isin(['Species of Concern', \\\n",
    "                                                            'Endangered', 'Threatened', 'In Recovery'])\n"
   ]
  },
  {
   "cell_type": "markdown",
   "metadata": {},
   "source": [
    "Let's group the `species` data frame by the `category` and `is_protected` columns and count the unique `scientific_name`s in each grouping.\n",
    "\n",
    "Save your results to `category_counts`."
   ]
  },
  {
   "cell_type": "markdown",
   "metadata": {},
   "source": [
    "Examine `category_counts` using `head()`."
   ]
  },
  {
   "cell_type": "code",
   "execution_count": 15,
   "metadata": {},
   "outputs": [],
   "source": [
    "category_counts = species.groupby(['category', 'is_protected']).scientific_name.nunique().reset_index()"
   ]
  },
  {
   "cell_type": "code",
   "execution_count": 16,
   "metadata": {},
   "outputs": [
    {
     "name": "stdout",
     "output_type": "stream",
     "text": [
      "    category  is_protected  scientific_name\n",
      "0  Amphibian         False               72\n",
      "1  Amphibian          True                7\n",
      "2       Bird         False              413\n",
      "3       Bird          True               75\n",
      "4       Fish         False              115\n"
     ]
    }
   ],
   "source": [
    "print(category_counts.head())"
   ]
  },
  {
   "cell_type": "markdown",
   "metadata": {
    "collapsed": true
   },
   "source": [
    "It's going to be easier to view this data if we pivot it.  Using `pivot`, rearange `category_counts` so that:\n",
    "- `columns` is `is_protected`\n",
    "- `index` is `category`\n",
    "- `values` is `scientific_name`\n",
    "\n",
    "Save your pivoted data to `category_pivot`. Remember to `reset_index()` at the end."
   ]
  },
  {
   "cell_type": "code",
   "execution_count": 17,
   "metadata": {},
   "outputs": [],
   "source": [
    "category_pivot = category_counts.pivot(columns = 'is_protected', index = 'category', \\\n",
    "                                       values = 'scientific_name' ).reset_index().sort_values(by=False)"
   ]
  },
  {
   "cell_type": "markdown",
   "metadata": {},
   "source": [
    "Examine `category_pivot`."
   ]
  },
  {
   "cell_type": "code",
   "execution_count": 18,
   "metadata": {},
   "outputs": [
    {
     "name": "stdout",
     "output_type": "stream",
     "text": [
      "is_protected           category  False  True\n",
      "0                     Amphibian     72     7\n",
      "5                       Reptile     73     5\n",
      "2                          Fish    115    10\n",
      "3                        Mammal    146    30\n",
      "4             Nonvascular Plant    328     5\n",
      "1                          Bird    413    75\n",
      "6                Vascular Plant   4216    46\n"
     ]
    }
   ],
   "source": [
    "print(category_pivot)"
   ]
  },
  {
   "cell_type": "markdown",
   "metadata": {},
   "source": [
    "Use the `.columns` property to  rename the categories `True` and `False` to something more description:\n",
    "- Leave `category` as `category`\n",
    "- Rename `False` to `not_protected`\n",
    "- Rename `True` to `protected`"
   ]
  },
  {
   "cell_type": "code",
   "execution_count": 19,
   "metadata": {
    "scrolled": true
   },
   "outputs": [
    {
     "name": "stdout",
     "output_type": "stream",
     "text": [
      "is_protected           Category  Not Protected  Protected\n",
      "0                     Amphibian             72          7\n",
      "5                       Reptile             73          5\n",
      "2                          Fish            115         10\n",
      "3                        Mammal            146         30\n",
      "4             Nonvascular Plant            328          5\n",
      "1                          Bird            413         75\n",
      "6                Vascular Plant           4216         46\n"
     ]
    }
   ],
   "source": [
    "category_pivot.rename(columns = {'is_protected':'', 'category':'Category', \\\n",
    "                                 False:'Not Protected', True:'Protected'}, inplace = True)\n",
    "print(category_pivot)"
   ]
  },
  {
   "cell_type": "markdown",
   "metadata": {},
   "source": [
    "Let's create a new column of `category_pivot` called `percent_protected`, which is equal to `protected` (the number of species that are protected) divided by `protected` plus `not_protected` (the total number of species)."
   ]
  },
  {
   "cell_type": "code",
   "execution_count": 20,
   "metadata": {},
   "outputs": [],
   "source": [
    "category_pivot['Percent Protected'] = round(100.0 * category_pivot['Protected'] / (category_pivot['Not Protected'] + \\\n",
    "                                            category_pivot['Protected']),2)"
   ]
  },
  {
   "cell_type": "markdown",
   "metadata": {},
   "source": [
    "Examine `category_pivot`."
   ]
  },
  {
   "cell_type": "code",
   "execution_count": 21,
   "metadata": {
    "scrolled": true
   },
   "outputs": [
    {
     "name": "stdout",
     "output_type": "stream",
     "text": [
      "is_protected           Category  Not Protected  Protected  Percent Protected\n",
      "0                     Amphibian             72          7               8.86\n",
      "5                       Reptile             73          5               6.41\n",
      "2                          Fish            115         10               8.00\n",
      "3                        Mammal            146         30              17.05\n",
      "4             Nonvascular Plant            328          5               1.50\n",
      "1                          Bird            413         75              15.37\n",
      "6                Vascular Plant           4216         46               1.08\n"
     ]
    }
   ],
   "source": [
    "print(category_pivot)"
   ]
  },
  {
   "cell_type": "markdown",
   "metadata": {},
   "source": [
    "It looks like species in category `Mammal` are more likely to be endangered than species in `Bird`.  We're going to do a significance test to see if this statement is true.  Before you do the significance test, consider the following questions:\n",
    "- Is the data numerical or categorical?\n",
    "- How many pieces of data are you comparing?"
   ]
  },
  {
   "cell_type": "markdown",
   "metadata": {},
   "source": [
    "Based on those answers, you should choose to do a *chi squared test*.  In order to run a chi squared test, we'll need to create a contingency table.  Our contingency table should look like this:\n",
    "\n",
    "||protected|not protected|\n",
    "|-|-|-|\n",
    "|Mammal|?|?|\n",
    "|Bird|?|?|\n",
    "\n",
    "Create a table called `contingency` and fill it in with the correct numbers"
   ]
  },
  {
   "cell_type": "code",
   "execution_count": 22,
   "metadata": {},
   "outputs": [],
   "source": [
    "contingency1 = [[413,75],[146,30]]"
   ]
  },
  {
   "cell_type": "markdown",
   "metadata": {},
   "source": [
    "In order to perform our chi square test, we'll need to import the correct function from scipy.  Past the following code and run it:\n",
    "```py\n",
    "from scipy.stats import chi2_contingency\n",
    "```"
   ]
  },
  {
   "cell_type": "code",
   "execution_count": 23,
   "metadata": {},
   "outputs": [],
   "source": [
    "from scipy.stats import chi2_contingency"
   ]
  },
  {
   "cell_type": "markdown",
   "metadata": {},
   "source": [
    "Now run `chi2_contingency` with `contingency`."
   ]
  },
  {
   "cell_type": "code",
   "execution_count": 24,
   "metadata": {},
   "outputs": [
    {
     "name": "stdout",
     "output_type": "stream",
     "text": [
      "0.6875948096661336\n"
     ]
    }
   ],
   "source": [
    "chi2_1, pvalue_1, dof_1, expected_1 = chi2_contingency(contingency1)\n",
    "\n",
    "print(pvalue_1)"
   ]
  },
  {
   "cell_type": "markdown",
   "metadata": {},
   "source": [
    "It looks like this difference isn't significant!\n",
    "\n",
    "Let's test another.  Is the difference between `Reptile` and `Mammal` significant?"
   ]
  },
  {
   "cell_type": "code",
   "execution_count": 25,
   "metadata": {},
   "outputs": [
    {
     "name": "stdout",
     "output_type": "stream",
     "text": [
      "0.03835559022969898\n"
     ]
    }
   ],
   "source": [
    "contingency2 = [[73,5],[146,30]]\n",
    "\n",
    "chi2_2, pvalue_2, dof_2, expected_2 = chi2_contingency(contingency2)\n",
    "\n",
    "print(pvalue_2)"
   ]
  },
  {
   "cell_type": "markdown",
   "metadata": {},
   "source": [
    "Yes! It looks like there is a significant difference between `Reptile` and `Mammal`!"
   ]
  },
  {
   "cell_type": "code",
   "execution_count": 29,
   "metadata": {},
   "outputs": [],
   "source": [
    "# MAC note: OK fine, there's a \"significant\" difference between reptiles and mammals. (That's barely over 2 sigma,\n",
    "# I don't know if I'd call that significant.) But what about all of the other species types out there? \n",
    "\n",
    "# First let's look at birds compared to all other non-mammal categories:\n",
    "\n",
    "contingency3 = [[413,75],[72,7],[73,5],[115,10],[328,5],[4216,46]]\n",
    "\n",
    "chi2_3, pvalue_3, dof_3, expected_3 = chi2_contingency(contingency3)\n",
    "#print(pvalue_3)\n",
    "\n",
    "# The above results in a p-value on the order of 10^-76.\n",
    "# Ugh.\n",
    "# OK, OK, fine, I'll compare them pairwise then.\n",
    "\n",
    "# Birds and amphibians:\n",
    "# contingency4 = [[413,75],[72,7]]\n",
    "# p-value: 0.1759\n",
    "\n",
    "# Birds and reptiles:\n",
    "#contingency4 = [[413,75],[73,5]]\n",
    "# p-value: 0.05313\n",
    "\n",
    "# Birds and fish:\n",
    "# contingency4 = [[413,75],[115,10]]\n",
    "# p-value: 0.04748\n",
    "\n",
    "# Birds and non-vascular plants:\n",
    "#contingency4 = [[413,75],[328,5]]\n",
    "# p-value: 1.05e-10\n",
    "\n",
    "# Birds and vascular plants:\n",
    "contingency4 = [[413,75],[4216,46]]\n",
    "# p-value: 4.4e-79\n",
    "chi2_4, pvalue_4, dof_4, expected_4 = chi2_contingency(contingency4)\n",
    "#print(pvalue_4)\n",
    "\n",
    "# Having learned my lesson above, I am going to go right to pairwise tests between mammals and non-bird categories:\n",
    "# Mammals and amphibians:\n",
    "#contingency5 = [[146,30],[72,7]]\n",
    "# p-value: 0.1275\n",
    "\n",
    "# Mammals and reptiles:\n",
    "#contingency5 = [[146,30],[73,5]]\n",
    "# p-value: 0.03836\n",
    "\n",
    "# Mammals and fish:\n",
    "# contingency5 = [[146,30],[115,10]]\n",
    "# p-value: 0.0352\n",
    "\n",
    "# Mammals and non-vascular plants:\n",
    "# contingency5 = [[146,30],[328,5]]\n",
    "# p-value: 1.48e-10\n",
    "\n",
    "# Mammals and vascular plants:\n",
    "contingency5 = [[146,30],[4216,46]]\n",
    "# p-value: 1.44e-55\n",
    "\n",
    "chi2_5, pvalue_5, dof_5, expected_5 = chi2_contingency(contingency5)\n",
    "#print(pvalue_5)"
   ]
  },
  {
   "cell_type": "markdown",
   "metadata": {},
   "source": [
    "# Step 5"
   ]
  },
  {
   "cell_type": "markdown",
   "metadata": {},
   "source": [
    "Conservationists have been recording sightings of different species at several national parks for the past 7 days.  They've saved sent you their observations in a file called `observations.csv`.  Load `observations.csv` into a variable called `observations`, then use `head` to view the data."
   ]
  },
  {
   "cell_type": "code",
   "execution_count": 30,
   "metadata": {
    "scrolled": true
   },
   "outputs": [
    {
     "name": "stdout",
     "output_type": "stream",
     "text": [
      "            scientific_name                            park_name  observations\n",
      "0        Vicia benghalensis  Great Smoky Mountains National Park            68\n",
      "1            Neovison vison  Great Smoky Mountains National Park            77\n",
      "2         Prunus subcordata               Yosemite National Park           138\n",
      "3      Abutilon theophrasti                  Bryce National Park            84\n",
      "4  Githopsis specularioides  Great Smoky Mountains National Park            85\n"
     ]
    }
   ],
   "source": [
    "observations = pd.read_csv('observations.csv')\n",
    "\n",
    "print(observations.head())"
   ]
  },
  {
   "cell_type": "markdown",
   "metadata": {},
   "source": [
    "Some scientists are studying the number of sheep sightings at different national parks.  There are several different scientific names for different types of sheep.  We'd like to know which rows of `species` are referring to sheep.  Notice that the following code will tell us whether or not a word occurs in a string:"
   ]
  },
  {
   "cell_type": "code",
   "execution_count": 31,
   "metadata": {},
   "outputs": [
    {
     "data": {
      "text/plain": [
       "True"
      ]
     },
     "execution_count": 31,
     "metadata": {},
     "output_type": "execute_result"
    }
   ],
   "source": [
    "# Does \"Sheep\" occur in this string?\n",
    "str1 = 'This string contains Sheep'\n",
    "'Sheep' in str1"
   ]
  },
  {
   "cell_type": "code",
   "execution_count": 32,
   "metadata": {},
   "outputs": [
    {
     "data": {
      "text/plain": [
       "False"
      ]
     },
     "execution_count": 32,
     "metadata": {},
     "output_type": "execute_result"
    }
   ],
   "source": [
    "# Does \"Sheep\" occur in this string?\n",
    "str2 = 'This string contains Cows'\n",
    "'Sheep' in str2"
   ]
  },
  {
   "cell_type": "markdown",
   "metadata": {},
   "source": [
    "Use `apply` and a `lambda` function to create a new column in `species` called `is_sheep` which is `True` if the `common_names` contains `'Sheep'`, and `False` otherwise."
   ]
  },
  {
   "cell_type": "code",
   "execution_count": 33,
   "metadata": {},
   "outputs": [],
   "source": [
    "species['is_sheep'] = species.common_names.apply(lambda x: 'Sheep' in x)"
   ]
  },
  {
   "cell_type": "markdown",
   "metadata": {},
   "source": [
    "Select the rows of `species` where `is_sheep` is `True` and examine the results."
   ]
  },
  {
   "cell_type": "code",
   "execution_count": 34,
   "metadata": {},
   "outputs": [
    {
     "name": "stdout",
     "output_type": "stream",
     "text": [
      "         category              scientific_name  \\\n",
      "0          Mammal                   Ovis aries   \n",
      "1  Vascular Plant             Rumex acetosella   \n",
      "2  Vascular Plant           Festuca filiformis   \n",
      "3          Mammal              Ovis canadensis   \n",
      "4  Vascular Plant             Rumex acetosella   \n",
      "5  Vascular Plant            Rumex paucifolius   \n",
      "6  Vascular Plant                 Carex illota   \n",
      "7  Vascular Plant  Potentilla ovina var. ovina   \n",
      "8          Mammal      Ovis canadensis sierrae   \n",
      "\n",
      "                                        common_names conservation_status  \\\n",
      "0  Domestic Sheep, Mouflon, Red Sheep, Sheep (Feral)     No Intervention   \n",
      "1                        Sheep Sorrel, Sheep Sorrell     No Intervention   \n",
      "2                              Fineleaf Sheep Fescue     No Intervention   \n",
      "3                       Bighorn Sheep, Bighorn Sheep  Species of Concern   \n",
      "4  Common Sheep Sorrel, Field Sorrel, Red Sorrel,...     No Intervention   \n",
      "5   Alpine Sheep Sorrel, Fewleaved Dock, Meadow Dock     No Intervention   \n",
      "6                       Sheep Sedge, Smallhead Sedge     No Intervention   \n",
      "7                                   Sheep Cinquefoil     No Intervention   \n",
      "8                        Sierra Nevada Bighorn Sheep          Endangered   \n",
      "\n",
      "   is_protected  is_sheep  \n",
      "0         False      True  \n",
      "1         False      True  \n",
      "2         False      True  \n",
      "3          True      True  \n",
      "4         False      True  \n",
      "5         False      True  \n",
      "6         False      True  \n",
      "7         False      True  \n",
      "8          True      True  \n"
     ]
    }
   ],
   "source": [
    "heres_some_sheep = species[species.is_sheep == True]\n",
    "heres_some_sheep.reset_index(drop = True, inplace = True)\n",
    "\n",
    "print(heres_some_sheep)"
   ]
  },
  {
   "cell_type": "markdown",
   "metadata": {},
   "source": [
    "Many of the results are actually plants.  Select the rows of `species` where `is_sheep` is `True` and `category` is `Mammal`.  Save the results to the variable `sheep_species`."
   ]
  },
  {
   "cell_type": "code",
   "execution_count": 35,
   "metadata": {
    "scrolled": true
   },
   "outputs": [
    {
     "name": "stdout",
     "output_type": "stream",
     "text": [
      "  category          scientific_name  \\\n",
      "0   Mammal               Ovis aries   \n",
      "1   Mammal          Ovis canadensis   \n",
      "2   Mammal  Ovis canadensis sierrae   \n",
      "\n",
      "                                        common_names conservation_status  \\\n",
      "0  Domestic Sheep, Mouflon, Red Sheep, Sheep (Feral)     No Intervention   \n",
      "1                       Bighorn Sheep, Bighorn Sheep  Species of Concern   \n",
      "2                        Sierra Nevada Bighorn Sheep          Endangered   \n",
      "\n",
      "   is_protected  is_sheep  \n",
      "0         False      True  \n",
      "1          True      True  \n",
      "2          True      True  \n"
     ]
    }
   ],
   "source": [
    "sheep_species = species[(species.is_sheep == True) & (species.category == 'Mammal')]\n",
    "sheep_species.reset_index(drop = True, inplace = True)\n",
    "\n",
    "print(sheep_species)"
   ]
  },
  {
   "cell_type": "markdown",
   "metadata": {},
   "source": [
    "Now merge `sheep_species` with `observations` to get a DataFrame with observations of sheep.  Save this DataFrame as `sheep_observations`."
   ]
  },
  {
   "cell_type": "code",
   "execution_count": 36,
   "metadata": {},
   "outputs": [
    {
     "name": "stdout",
     "output_type": "stream",
     "text": [
      "  category  scientific_name  \\\n",
      "0   Mammal       Ovis aries   \n",
      "1   Mammal       Ovis aries   \n",
      "2   Mammal       Ovis aries   \n",
      "3   Mammal       Ovis aries   \n",
      "4   Mammal  Ovis canadensis   \n",
      "\n",
      "                                        common_names conservation_status  \\\n",
      "0  Domestic Sheep, Mouflon, Red Sheep, Sheep (Feral)     No Intervention   \n",
      "1  Domestic Sheep, Mouflon, Red Sheep, Sheep (Feral)     No Intervention   \n",
      "2  Domestic Sheep, Mouflon, Red Sheep, Sheep (Feral)     No Intervention   \n",
      "3  Domestic Sheep, Mouflon, Red Sheep, Sheep (Feral)     No Intervention   \n",
      "4                       Bighorn Sheep, Bighorn Sheep  Species of Concern   \n",
      "\n",
      "   is_protected  is_sheep                            park_name  observations  \n",
      "0         False      True               Yosemite National Park           126  \n",
      "1         False      True  Great Smoky Mountains National Park            76  \n",
      "2         False      True                  Bryce National Park           119  \n",
      "3         False      True            Yellowstone National Park           221  \n",
      "4          True      True            Yellowstone National Park           219  \n"
     ]
    }
   ],
   "source": [
    "sheep_observations = sheep_species.merge(observations)\n",
    "\n",
    "print(sheep_observations.head())"
   ]
  },
  {
   "cell_type": "markdown",
   "metadata": {},
   "source": [
    "How many total sheep observations (across all three species) were made at each national park?  Use `groupby` to get the `sum` of `observations` for each `park_name`.  Save your answer to `obs_by_park`.\n",
    "\n",
    "This is the total number of sheep observed in each park over the past 7 days."
   ]
  },
  {
   "cell_type": "code",
   "execution_count": 37,
   "metadata": {},
   "outputs": [
    {
     "name": "stdout",
     "output_type": "stream",
     "text": [
      "                             park_name  observations\n",
      "1  Great Smoky Mountains National Park           149\n",
      "0                  Bryce National Park           250\n",
      "3               Yosemite National Park           282\n",
      "2            Yellowstone National Park           507\n"
     ]
    }
   ],
   "source": [
    "obs_by_park = sheep_observations.groupby('park_name').observations.sum().reset_index().sort_values(by='observations')\n",
    "\n",
    "print(obs_by_park)"
   ]
  },
  {
   "cell_type": "markdown",
   "metadata": {},
   "source": [
    "Create a bar chart showing the different number of observations per week at each park.\n",
    "\n",
    "1. Start by creating a wide figure with `figsize=(16, 4)`\n",
    "1. Start by creating an axes object called `ax` using `plt.subplot`.\n",
    "2. Create a bar chart whose heights are equal to `observations` column of `obs_by_park`.\n",
    "3. Create an x-tick for each of the bars.\n",
    "4. Label each x-tick with the label from `park_name` in `obs_by_park`\n",
    "5. Label the y-axis `Number of Observations`\n",
    "6. Title the graph `Observations of Sheep per Week`\n",
    "7. Plot the grap using `plt.show()`"
   ]
  },
  {
   "cell_type": "code",
   "execution_count": 38,
   "metadata": {},
   "outputs": [
    {
     "data": {
      "image/png": "[encoded data removed]",
      "text/plain": [
       "<Figure size 1008x576 with 1 Axes>"
      ]
     },
     "metadata": {
      "needs_background": "light"
     },
     "output_type": "display_data"
    }
   ],
   "source": [
    "plt.figure(figsize=(14,8))\n",
    "ax = plt.subplot(1,1,1)\n",
    "numofparks = range(len(obs_by_park))\n",
    "plt.bar(numofparks, obs_by_park.observations, color = 'lightblue')\n",
    "ax.set_xticks(numofparks)\n",
    "ax.set_xticklabels(obs_by_park.park_name, rotation = 35)\n",
    "plt.title('Observations of Sheep per Week')\n",
    "plt.xlabel('Park')\n",
    "plt.ylabel('Number of Observations')\n",
    "plt.subplots_adjust(bottom = 0.4)\n",
    "plt.savefig('Sheep_Observations_per_Park.png')\n",
    "plt.show()"
   ]
  },
  {
   "cell_type": "markdown",
   "metadata": {},
   "source": [
    "Our scientists know that 15% of sheep at Bryce National Park have foot and mouth disease.  Park rangers at Yellowstone National Park have been running a program to reduce the rate of foot and mouth disease at that park.  The scientists want to test whether or not this program is working.  They want to be able to detect reductions of at least 5 percentage points.  For instance, if 10% of sheep in Yellowstone have foot and mouth disease, they'd like to be able to know this, with confidence.\n",
    "\n",
    "Use <a href=\"https://s3.amazonaws.com/codecademy-content/courses/learn-hypothesis-testing/a_b_sample_size/index.html\">Codecademy's sample size calculator</a> to calculate the number of sheep that they would need to observe from each park.  Use the default level of significance (90%).\n",
    "\n",
    "Remember that \"Minimum Detectable Effect\" is a percent of the baseline."
   ]
  },
  {
   "cell_type": "code",
   "execution_count": 39,
   "metadata": {},
   "outputs": [],
   "source": [
    "# The baseline conversion rate seems to be 15%, as that's the current percentage of sheep with foot and mouth disease\n",
    "# We would like to see a 33.33% reduction in the rate of foot and mouth disease\n",
    "# current rate 15%, seek a 5 percent deduction ... that means down to 10%\n",
    "# 10 - 15 / 15, and take the absolute value; yields 33.33%.\n",
    "# So the minimum detectable effect is 33.33%\n",
    "# And we're dold to seek a significance level of 90%\n",
    "# Heading to the sample size calculator link and filling in the appropriate values, we get ...\n",
    "# 870\n",
    "# So we'll need 870 observations."
   ]
  },
  {
   "cell_type": "markdown",
   "metadata": {},
   "source": [
    "How many weeks would you need to observe sheep at Bryce National Park in order to observe enough sheep?  How many weeks would you need to observe at Yellowstone National Park to observe enough sheep?"
   ]
  },
  {
   "cell_type": "code",
   "execution_count": 40,
   "metadata": {},
   "outputs": [],
   "source": [
    "# Right now, Bryce National Park makes 250 sheep observations per week\n",
    "# 870 observations / 250 observations/week\n",
    "# That's a total of ...\n",
    "# 3.5 weeks   (technically 3.48 but I am rounding up)\n",
    "#\n",
    "# Right now, Yellowstone National Park makes 507 sheep observations per week\n",
    "# 870 observations / 507 observations/week\n",
    "# That's a total of ...\n",
    "# 1.7 weeks\n",
    "# So I guess we could call that 2 weeks if we wanted to."
   ]
  },
  {
   "cell_type": "code",
   "execution_count": null,
   "metadata": {},
   "outputs": [],
   "source": []
  }
 ],
 "metadata": {
  "kernelspec": {
   "display_name": "Python 3",
   "language": "python",
   "name": "python3"
  },
  "language_info": {
   "codemirror_mode": {
    "name": "ipython",
    "version": 3
   },
   "file_extension": ".py",
   "mimetype": "text/x-python",
   "name": "python",
   "nbconvert_exporter": "python",
   "pygments_lexer": "ipython3",
   "version": "3.8.3"
  }
 },
 "nbformat": 4,
 "nbformat_minor": 2
}
